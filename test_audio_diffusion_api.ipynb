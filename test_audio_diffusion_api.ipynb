{
 "cells": [
  {
   "cell_type": "code",
   "execution_count": 2,
   "metadata": {},
   "outputs": [
    {
     "name": "stdout",
     "output_type": "stream",
     "text": [
      "Collecting soundfile\n",
      "  Downloading soundfile-0.12.1-py2.py3-none-win_amd64.whl.metadata (14 kB)\n",
      "Requirement already satisfied: cffi>=1.0 in c:\\users\\yahia\\appdata\\local\\programs\\python\\python312\\lib\\site-packages (from soundfile) (1.17.0)\n",
      "Requirement already satisfied: pycparser in c:\\users\\yahia\\appdata\\local\\programs\\python\\python312\\lib\\site-packages (from cffi>=1.0->soundfile) (2.22)\n",
      "Downloading soundfile-0.12.1-py2.py3-none-win_amd64.whl (1.0 MB)\n",
      "   ---------------------------------------- 0.0/1.0 MB ? eta -:--:--\n",
      "   ---------------------------------------- 0.0/1.0 MB ? eta -:--:--\n",
      "   ---------- ----------------------------- 0.3/1.0 MB ? eta -:--:--\n",
      "   ------------------------------- -------- 0.8/1.0 MB 1.5 MB/s eta 0:00:01\n",
      "   ---------------------------------------- 1.0/1.0 MB 1.4 MB/s eta 0:00:00\n",
      "Installing collected packages: soundfile\n",
      "Successfully installed soundfile-0.12.1\n"
     ]
    }
   ],
   "source": [
    "!pip install soundfile"
   ]
  },
  {
   "cell_type": "code",
   "execution_count": null,
   "metadata": {},
   "outputs": [],
   "source": [
    "import requests\n",
    "import base64\n",
    "import IPython.display as ipd\n",
    "import io\n",
    "import numpy as np\n",
    "import soundfile as sf\n",
    "\n",
    "\n",
    "def generate_and_play_audio(prompt, api_url):\n",
    "    \"\"\"\n",
    "    Generate audio from prompt and play it\n",
    "    \"\"\"\n",
    "    # Make sure to strip any trailing slashes from the API URL\n",
    "    api_url = api_url.rstrip(\"/\")\n",
    "\n",
    "    payload = {\n",
    "        \"prompt\": prompt,\n",
    "        \"audio_length\": 5.0,\n",
    "        \"num_inference_steps\": 10,\n",
    "        \"guidance_scale\": 2.5,\n",
    "    }\n",
    "\n",
    "    print(f\"Generating audio for prompt: '{prompt}'\")\n",
    "\n",
    "    try:\n",
    "        response = requests.post(\n",
    "            f\"{api_url}/generate-audio\",\n",
    "            json=payload,\n",
    "            headers={\"Content-Type\": \"application/json\"},\n",
    "        )\n",
    "\n",
    "        print(f\"Response status code: {response.status_code}\")\n",
    "        print(f\"Response headers: {response.headers}\")\n",
    "\n",
    "        if response.status_code == 200:\n",
    "            print(\"Generation successful!\")\n",
    "            response_data = response.json()\n",
    "            audio_base64 = response_data[\"audio_base64\"]\n",
    "            audio_data = base64.b64decode(audio_base64)\n",
    "\n",
    "            # Save to file\n",
    "            with open(\"generated_audio.wav\", \"wb\") as f:\n",
    "                f.write(audio_data)\n",
    "\n",
    "            # Play audio\n",
    "            audio_io = io.BytesIO(audio_data)\n",
    "            audio_array, sample_rate = sf.read(audio_io)\n",
    "            return ipd.Audio(audio_array, rate=sample_rate)\n",
    "        else:\n",
    "            print(f\"Error {response.status_code}:\")\n",
    "            print(f\"Response content: {response.text}\")\n",
    "    except Exception as e:\n",
    "        print(f\"An error occurred: {str(e)}\")\n",
    "        raise"
   ]
  },
  {
   "cell_type": "code",
   "execution_count": null,
   "metadata": {},
   "outputs": [],
   "source": [
    "# Test the API\n",
    "API_URL = \"http://localhost:8095/generate-audio\"  # Replace with your actual ngrok URL\n",
    "test_prompt = \"Techno music with a strong, upbeat tempo and high melodic riffs\"\n",
    "generate_and_play_audio(test_prompt, API_URL)"
   ]
  }
 ],
 "metadata": {
  "kernelspec": {
   "display_name": "Python 3",
   "language": "python",
   "name": "python3"
  },
  "language_info": {
   "codemirror_mode": {
    "name": "ipython",
    "version": 3
   },
   "file_extension": ".py",
   "mimetype": "text/x-python",
   "name": "python",
   "nbconvert_exporter": "python",
   "pygments_lexer": "ipython3",
   "version": "3.12.5"
  }
 },
 "nbformat": 4,
 "nbformat_minor": 2
}
